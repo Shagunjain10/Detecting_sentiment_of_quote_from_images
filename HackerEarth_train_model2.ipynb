{
  "nbformat": 4,
  "nbformat_minor": 0,
  "metadata": {
    "colab": {
      "name": "hackerearth(18/7/20).ipynb",
      "provenance": [],
      "toc_visible": true
    },
    "kernelspec": {
      "name": "python3",
      "display_name": "Python 3"
    }
  },
  "cells": [
    {
      "cell_type": "code",
      "metadata": {
        "id": "p2NWSqiZMpq8",
        "colab_type": "code",
        "colab": {}
      },
      "source": [
        "import numpy as np\n",
        "import pandas as pd\n",
        "from sklearn import metrics"
      ],
      "execution_count": null,
      "outputs": []
    },
    {
      "cell_type": "code",
      "metadata": {
        "id": "RvXTrc0SMwrB",
        "colab_type": "code",
        "colab": {}
      },
      "source": [
        "data = pd.read_csv(\"train_clean_data.csv\")"
      ],
      "execution_count": null,
      "outputs": []
    },
    {
      "cell_type": "code",
      "metadata": {
        "id": "chPZuIPbNDwV",
        "colab_type": "code",
        "colab": {}
      },
      "source": [
        "#data.shape"
      ],
      "execution_count": null,
      "outputs": []
    },
    {
      "cell_type": "code",
      "metadata": {
        "id": "hpjW9wd8OMT4",
        "colab_type": "code",
        "colab": {}
      },
      "source": [
        "text = data['Text'][80000:120000].astype('U')"
      ],
      "execution_count": null,
      "outputs": []
    },
    {
      "cell_type": "code",
      "metadata": {
        "id": "tCVvvE3DNGtx",
        "colab_type": "code",
        "colab": {}
      },
      "source": [
        "from sklearn.feature_extraction.text import TfidfVectorizer"
      ],
      "execution_count": null,
      "outputs": []
    },
    {
      "cell_type": "code",
      "metadata": {
        "id": "QE5wbwEHNpAj",
        "colab_type": "code",
        "colab": {}
      },
      "source": [
        "## TFidf Vectorizer\n",
        "tfidf_v=TfidfVectorizer(max_features=10000,ngram_range=(1,5))\n",
        "X=tfidf_v.fit_transform(text).toarray()"
      ],
      "execution_count": null,
      "outputs": []
    },
    {
      "cell_type": "code",
      "metadata": {
        "id": "cDNTfSWmOSpO",
        "colab_type": "code",
        "colab": {}
      },
      "source": [
        "y=data['label'][80000:120000]"
      ],
      "execution_count": null,
      "outputs": []
    },
    {
      "cell_type": "code",
      "metadata": {
        "id": "KrdjchnePIjU",
        "colab_type": "code",
        "colab": {}
      },
      "source": [
        "from sklearn.model_selection import train_test_split\n",
        "xtrain,xtest,ytrain,ytest = train_test_split(X,y,test_size=0.15,random_state=7)"
      ],
      "execution_count": null,
      "outputs": []
    },
    {
      "cell_type": "code",
      "metadata": {
        "id": "hiAD1tEoZKJ1",
        "colab_type": "code",
        "colab": {}
      },
      "source": [
        "print(ytrain)"
      ],
      "execution_count": null,
      "outputs": []
    },
    {
      "cell_type": "code",
      "metadata": {
        "id": "StzOeJ7HPrsu",
        "colab_type": "code",
        "colab": {}
      },
      "source": [
        "from sklearn.linear_model import PassiveAggressiveClassifier\n",
        "classifier = PassiveAggressiveClassifier(max_iter=50)"
      ],
      "execution_count": null,
      "outputs": []
    },
    {
      "cell_type": "code",
      "metadata": {
        "id": "bdxgvHDwQ1XR",
        "colab_type": "code",
        "colab": {
          "base_uri": "https://localhost:8080/",
          "height": 34
        },
        "outputId": "78ac2da9-2339-4f67-c0fa-e023a8902810"
      },
      "source": [
        "\n",
        "linear_clf.fit(xtrain, ytrain)\n",
        "pred = linear_clf.predict(xtest)\n",
        "score = metrics.accuracy_score(ytest, pred)\n",
        "print(\"accuracy:   %0.3f\" % score)\n",
        "#cm = metrics.confusion_matrix(y_test, pred)\n",
        "#plot_confusion_matrix(cm, classes=['FAKE Data', 'REAL Data'])"
      ],
      "execution_count": null,
      "outputs": [
        {
          "output_type": "stream",
          "text": [
            "accuracy:   0.748\n"
          ],
          "name": "stdout"
        }
      ]
    },
    {
      "cell_type": "code",
      "metadata": {
        "id": "MUM0HTHTRYr8",
        "colab_type": "code",
        "colab": {}
      },
      "source": [
        "from sklearn.naive_bayes import MultinomialNB\n",
        "classifier=MultinomialNB()\n"
      ],
      "execution_count": null,
      "outputs": []
    },
    {
      "cell_type": "code",
      "metadata": {
        "id": "SlyqnRy0XC6o",
        "colab_type": "code",
        "colab": {
          "base_uri": "https://localhost:8080/",
          "height": 34
        },
        "outputId": "e67bb549-10a9-4f13-98a0-914a2721b351"
      },
      "source": [
        "classifier.fit(xtrain, ytrain)\n",
        "pred = classifier.predict(xtest)\n",
        "score = metrics.accuracy_score(ytest, pred)\n",
        "print(\"accuracy:   %0.3f\" % score)"
      ],
      "execution_count": null,
      "outputs": [
        {
          "output_type": "stream",
          "text": [
            "accuracy:   0.714\n"
          ],
          "name": "stdout"
        }
      ]
    },
    {
      "cell_type": "code",
      "metadata": {
        "id": "D1oarQcCXJHh",
        "colab_type": "code",
        "colab": {
          "base_uri": "https://localhost:8080/",
          "height": 241
        },
        "outputId": "5a3c7fe3-466c-4148-a540-009a3e2902af"
      },
      "source": [
        "# As we see from result alpha is 0.1 is best hyperparameter.\n",
        "classifier=MultinomialNB(alpha=0.1)\n",
        "\n",
        "previous_score=0\n",
        "for alpha in np.arange(0,1,0.1):\n",
        "    sub_classifier=MultinomialNB(alpha=alpha)\n",
        "    sub_classifier.fit(xtrain,ytrain)\n",
        "    y_pred=sub_classifier.predict(xtest)\n",
        "    score = metrics.accuracy_score(ytest, y_pred)\n",
        "    if score>previous_score:\n",
        "        classifier=sub_classifier\n",
        "    print(\"Alpha: {}, Score : {}\".format(alpha,score))"
      ],
      "execution_count": null,
      "outputs": [
        {
          "output_type": "stream",
          "text": [
            "/usr/local/lib/python3.6/dist-packages/sklearn/naive_bayes.py:507: UserWarning: alpha too small will result in numeric errors, setting alpha = 1.0e-10\n",
            "  'setting alpha = %.1e' % _ALPHA_MIN)\n"
          ],
          "name": "stderr"
        },
        {
          "output_type": "stream",
          "text": [
            "Alpha: 0.0, Score : 0.7658\n",
            "Alpha: 0.1, Score : 0.766\n",
            "Alpha: 0.2, Score : 0.7658666666666667\n",
            "Alpha: 0.30000000000000004, Score : 0.7658666666666667\n",
            "Alpha: 0.4, Score : 0.7658666666666667\n",
            "Alpha: 0.5, Score : 0.7663333333333333\n",
            "Alpha: 0.6000000000000001, Score : 0.7663333333333333\n",
            "Alpha: 0.7000000000000001, Score : 0.7666\n",
            "Alpha: 0.8, Score : 0.7664666666666666\n",
            "Alpha: 0.9, Score : 0.7664666666666666\n"
          ],
          "name": "stdout"
        }
      ]
    },
    {
      "cell_type": "code",
      "metadata": {
        "id": "pOBrZoacYS-c",
        "colab_type": "code",
        "colab": {}
      },
      "source": [
        "testdata = pd.read_csv(\"ocr_final_data.csv\")"
      ],
      "execution_count": null,
      "outputs": []
    },
    {
      "cell_type": "code",
      "metadata": {
        "id": "J-i080meZya-",
        "colab_type": "code",
        "colab": {
          "base_uri": "https://localhost:8080/",
          "height": 122
        },
        "outputId": "e6a64102-9acc-4d47-8160-58e4ba8eb800"
      },
      "source": [
        "\n",
        "import nltk\n",
        "from nltk.corpus import stopwords\n",
        "from nltk.stem.porter import PorterStemmer\n",
        "import seaborn as sns\n",
        "import re\n",
        "stemmer  = PorterStemmer()\n",
        "nltk.download('stopwords')"
      ],
      "execution_count": null,
      "outputs": [
        {
          "output_type": "stream",
          "text": [
            "[nltk_data] Downloading package stopwords to /root/nltk_data...\n",
            "[nltk_data]   Package stopwords is already up-to-date!\n"
          ],
          "name": "stdout"
        },
        {
          "output_type": "stream",
          "text": [
            "/usr/local/lib/python3.6/dist-packages/statsmodels/tools/_testing.py:19: FutureWarning: pandas.util.testing is deprecated. Use the functions in the public API at pandas.testing instead.\n",
            "  import pandas.util.testing as tm\n"
          ],
          "name": "stderr"
        },
        {
          "output_type": "execute_result",
          "data": {
            "text/plain": [
              "True"
            ]
          },
          "metadata": {
            "tags": []
          },
          "execution_count": 12
        }
      ]
    },
    {
      "cell_type": "code",
      "metadata": {
        "id": "LJgwMU9udgxq",
        "colab_type": "code",
        "colab": {}
      },
      "source": [
        "predtext=[]\n",
        "for i in range(239):\n",
        "    sentence = re.sub('[^a-zA-Z123456789\\n]', ' ', str(testdata['Text'][i]))\n",
        "    sentence = sentence.lower()\n",
        "    sentence = sentence.split()\n",
        "    sentence = [stemmer.stem(word) for word in sentence if not word in stopwords.words('english')]\n",
        "    sentence = ' '.join(sentence)\n",
        "    predtext.append(sentence)"
      ],
      "execution_count": null,
      "outputs": []
    },
    {
      "cell_type": "code",
      "metadata": {
        "id": "T1Uac-TpeCEG",
        "colab_type": "code",
        "colab": {}
      },
      "source": [
        "#cv1 = CountVectorizer(max_features=5000,ngram_range=(1,3))\n",
        "#Xpredict = cv1.fit_transform(predtext).toarray()\n",
        "Xpredict=tfidf_v.fit_transform(predtext).toarray()"
      ],
      "execution_count": null,
      "outputs": []
    },
    {
      "cell_type": "code",
      "metadata": {
        "id": "zL-Dedj3h8Sf",
        "colab_type": "code",
        "colab": {
          "base_uri": "https://localhost:8080/",
          "height": 34
        },
        "outputId": "8a038774-bca3-4d70-e525-bd5ed94b9e84"
      },
      "source": [
        "Xpredict.shape"
      ],
      "execution_count": null,
      "outputs": [
        {
          "output_type": "execute_result",
          "data": {
            "text/plain": [
              "(239, 9702)"
            ]
          },
          "metadata": {
            "tags": []
          },
          "execution_count": 15
        }
      ]
    },
    {
      "cell_type": "code",
      "metadata": {
        "id": "heivZcNlhR5b",
        "colab_type": "code",
        "colab": {}
      },
      "source": [
        "x_predicted = np.zeros((239,10000))"
      ],
      "execution_count": null,
      "outputs": []
    },
    {
      "cell_type": "code",
      "metadata": {
        "id": "6-eA0QdGhRy-",
        "colab_type": "code",
        "colab": {}
      },
      "source": [
        "x_predicted[:,0:9702] = Xpredict"
      ],
      "execution_count": null,
      "outputs": []
    },
    {
      "cell_type": "code",
      "metadata": {
        "id": "5J41mSzoeVYp",
        "colab_type": "code",
        "colab": {}
      },
      "source": [
        "finalpred = classifier.predict(x_predicted)"
      ],
      "execution_count": null,
      "outputs": []
    },
    {
      "cell_type": "code",
      "metadata": {
        "id": "UHVXnBIMebBF",
        "colab_type": "code",
        "colab": {
          "base_uri": "https://localhost:8080/",
          "height": 204
        },
        "outputId": "14c2b71e-7732-4208-9be4-1c6670ff1be8"
      },
      "source": [
        "finalpred"
      ],
      "execution_count": null,
      "outputs": [
        {
          "output_type": "execute_result",
          "data": {
            "text/plain": [
              "array([0, 4, 0, 0, 0, 4, 0, 4, 0, 0, 4, 4, 4, 0, 0, 0, 4, 4, 0, 4, 4, 4,\n",
              "       4, 4, 4, 0, 4, 4, 0, 0, 4, 4, 0, 0, 0, 0, 4, 4, 0, 0, 4, 0, 4, 0,\n",
              "       0, 0, 0, 0, 4, 4, 0, 0, 4, 4, 0, 4, 4, 0, 0, 4, 0, 4, 0, 0, 4, 4,\n",
              "       0, 4, 4, 0, 0, 0, 0, 4, 4, 4, 0, 4, 0, 4, 0, 0, 0, 0, 4, 0, 4, 4,\n",
              "       0, 4, 4, 0, 4, 4, 4, 0, 0, 0, 0, 4, 4, 4, 0, 4, 4, 4, 4, 4, 4, 4,\n",
              "       0, 4, 4, 4, 0, 0, 0, 4, 0, 4, 0, 0, 4, 4, 4, 4, 0, 4, 0, 0, 0, 4,\n",
              "       4, 0, 0, 4, 4, 0, 0, 4, 0, 4, 4, 4, 0, 4, 0, 4, 0, 4, 4, 4, 4, 0,\n",
              "       0, 4, 4, 0, 0, 4, 0, 0, 0, 4, 0, 0, 0, 0, 4, 0, 4, 4, 0, 4, 0, 0,\n",
              "       0, 0, 0, 0, 0, 0, 0, 0, 0, 0, 0, 0, 4, 0, 0, 0, 0, 4, 0, 0, 0, 4,\n",
              "       0, 0, 0, 0, 0, 0, 0, 0, 0, 0, 0, 4, 0, 0, 0, 0, 4, 0, 4, 0, 0, 0,\n",
              "       0, 0, 0, 0, 4, 4, 0, 0, 0, 0, 0, 4, 0, 0, 4, 0, 0, 0, 0])"
            ]
          },
          "metadata": {
            "tags": []
          },
          "execution_count": 18
        }
      ]
    },
    {
      "cell_type": "code",
      "metadata": {
        "id": "X68irErdecWZ",
        "colab_type": "code",
        "colab": {}
      },
      "source": [
        "finalprediction = []\n",
        "for i in range(239):\n",
        "  if(finalpred[i]==4):\n",
        "    finalprediction.append('Positive')\n",
        "  else:\n",
        "    finalprediction.append('Negative')"
      ],
      "execution_count": null,
      "outputs": []
    },
    {
      "cell_type": "code",
      "metadata": {
        "id": "XhM9PYk-fCNt",
        "colab_type": "code",
        "colab": {}
      },
      "source": [
        "testdata['finalprediction'] = finalprediction\n"
      ],
      "execution_count": null,
      "outputs": []
    },
    {
      "cell_type": "code",
      "metadata": {
        "id": "r3FpOo-_eiRm",
        "colab_type": "code",
        "colab": {
          "base_uri": "https://localhost:8080/",
          "height": 139
        },
        "outputId": "41d8a5c5-7db0-4a98-d55d-6686aa09a20c"
      },
      "source": [
        "j=0\n",
        "for i in range(239):\n",
        "  if type(testdata['Text'][i])==float:\n",
        "    testdata['finalprediction'][i]=\"Random\"\n",
        "    j=j+1\n",
        "\n",
        "print(j)"
      ],
      "execution_count": null,
      "outputs": [
        {
          "output_type": "stream",
          "text": [
            "47\n"
          ],
          "name": "stdout"
        },
        {
          "output_type": "stream",
          "text": [
            "/usr/local/lib/python3.6/dist-packages/ipykernel_launcher.py:4: SettingWithCopyWarning: \n",
            "A value is trying to be set on a copy of a slice from a DataFrame\n",
            "\n",
            "See the caveats in the documentation: https://pandas.pydata.org/pandas-docs/stable/user_guide/indexing.html#returning-a-view-versus-a-copy\n",
            "  after removing the cwd from sys.path.\n"
          ],
          "name": "stderr"
        }
      ]
    },
    {
      "cell_type": "code",
      "metadata": {
        "id": "ZD9cuXIrfHyG",
        "colab_type": "code",
        "colab": {
          "base_uri": "https://localhost:8080/",
          "height": 296
        },
        "outputId": "48780a8e-f1e1-44e7-b714-b555c1c044bb"
      },
      "source": [
        "sns.countplot(testdata['finalprediction'])"
      ],
      "execution_count": null,
      "outputs": [
        {
          "output_type": "execute_result",
          "data": {
            "text/plain": [
              "<matplotlib.axes._subplots.AxesSubplot at 0x7fc21bf17160>"
            ]
          },
          "metadata": {
            "tags": []
          },
          "execution_count": 22
        },
        {
          "output_type": "display_data",
          "data": {
            "image/png": "[encoded data removed]",
            "text/plain": [
              "<Figure size 432x288 with 1 Axes>"
            ]
          },
          "metadata": {
            "tags": [],
            "needs_background": "light"
          }
        }
      ]
    },
    {
      "cell_type": "code",
      "metadata": {
        "id": "uQlW4ywvfNNH",
        "colab_type": "code",
        "colab": {}
      },
      "source": [
        "mydata = testdata['Filename']"
      ],
      "execution_count": null,
      "outputs": []
    },
    {
      "cell_type": "code",
      "metadata": {
        "id": "Rx1iNajXfU1G",
        "colab_type": "code",
        "colab": {}
      },
      "source": [
        "finalcsv = pd.DataFrame(mydata)"
      ],
      "execution_count": null,
      "outputs": []
    },
    {
      "cell_type": "code",
      "metadata": {
        "id": "V9QfDvLSfaQf",
        "colab_type": "code",
        "colab": {}
      },
      "source": [
        "finalcsv['Category'] = testdata['finalprediction']"
      ],
      "execution_count": null,
      "outputs": []
    },
    {
      "cell_type": "code",
      "metadata": {
        "id": "36TVSDFyfe_f",
        "colab_type": "code",
        "colab": {
          "base_uri": "https://localhost:8080/",
          "height": 17
        },
        "outputId": "68cf1c8d-d94c-437b-9026-246b53619f77"
      },
      "source": [
        "from google.colab import files\n",
        "\n",
        "finalcsv.to_csv('submission10.csv')\n",
        "files.download('submission10.csv')"
      ],
      "execution_count": null,
      "outputs": [
        {
          "output_type": "display_data",
          "data": {
            "application/javascript": [
              "\n",
              "    async function download(id, filename, size) {\n",
              "      if (!google.colab.kernel.accessAllowed) {\n",
              "        return;\n",
              "      }\n",
              "      const div = document.createElement('div');\n",
              "      const label = document.createElement('label');\n",
              "      label.textContent = `Downloading \"${filename}\": `;\n",
              "      div.appendChild(label);\n",
              "      const progress = document.createElement('progress');\n",
              "      progress.max = size;\n",
              "      div.appendChild(progress);\n",
              "      document.body.appendChild(div);\n",
              "\n",
              "      const buffers = [];\n",
              "      let downloaded = 0;\n",
              "\n",
              "      const channel = await google.colab.kernel.comms.open(id);\n",
              "      // Send a message to notify the kernel that we're ready.\n",
              "      channel.send({})\n",
              "\n",
              "      for await (const message of channel.messages) {\n",
              "        // Send a message to notify the kernel that we're ready.\n",
              "        channel.send({})\n",
              "        if (message.buffers) {\n",
              "          for (const buffer of message.buffers) {\n",
              "            buffers.push(buffer);\n",
              "            downloaded += buffer.byteLength;\n",
              "            progress.value = downloaded;\n",
              "          }\n",
              "        }\n",
              "      }\n",
              "      const blob = new Blob(buffers, {type: 'application/binary'});\n",
              "      const a = document.createElement('a');\n",
              "      a.href = window.URL.createObjectURL(blob);\n",
              "      a.download = filename;\n",
              "      div.appendChild(a);\n",
              "      a.click();\n",
              "      div.remove();\n",
              "    }\n",
              "  "
            ],
            "text/plain": [
              "<IPython.core.display.Javascript object>"
            ]
          },
          "metadata": {
            "tags": []
          }
        },
        {
          "output_type": "display_data",
          "data": {
            "application/javascript": [
              "download(\"download_cbd666dc-3913-4f3b-9ede-9bc374d214a4\", \"submission10.csv\", 5879)"
            ],
            "text/plain": [
              "<IPython.core.display.Javascript object>"
            ]
          },
          "metadata": {
            "tags": []
          }
        }
      ]
    },
    {
      "cell_type": "code",
      "metadata": {
        "id": "OcJJ8Vc2ftTu",
        "colab_type": "code",
        "colab": {}
      },
      "source": [
        ""
      ],
      "execution_count": null,
      "outputs": []
    }
  ]
}